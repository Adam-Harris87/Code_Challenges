{
 "cells": [
  {
   "cell_type": "markdown",
   "id": "5922b9cf",
   "metadata": {},
   "source": [
    "Write a Python function that takes a number as input and checks if it is prime. A prime number is a natural number greater than 1 that is divisible only by 1 and itself."
   ]
  },
  {
   "cell_type": "code",
   "execution_count": null,
   "id": "ba21a96c",
   "metadata": {},
   "outputs": [],
   "source": []
  },
  {
   "cell_type": "markdown",
   "id": "4f0be55e",
   "metadata": {},
   "source": [
    "Write a Python function that takes two lists as input and returns a new list containing the common elements between the two lists."
   ]
  },
  {
   "cell_type": "code",
   "execution_count": null,
   "id": "268ec19a",
   "metadata": {},
   "outputs": [],
   "source": []
  },
  {
   "cell_type": "markdown",
   "id": "a2f6f461",
   "metadata": {},
   "source": [
    "Write a Python function that takes the following dictionary as input and returns a new dictionary where the keys and values are swapped. In other words, the function should create a new dictionary where the original values become the keys, and the original keys become the values.\n",
    "\n",
    "original_dict = {“apple”: 1, “banana”: 2, “cherry”: 3}"
   ]
  },
  {
   "cell_type": "code",
   "execution_count": null,
   "id": "e3d08ced",
   "metadata": {},
   "outputs": [],
   "source": []
  },
  {
   "cell_type": "markdown",
   "id": "50330164",
   "metadata": {},
   "source": [
    "Create a class called “BankAccount” that represents a bank account. The class should have the following attributes:\n",
    "\n",
    "account_holder: A string representing the account holder’s name.\n",
    "balance: A floating-point number representing the current balance in the account.\n",
    "The class should have the following methods:\n",
    "\n",
    "deposit(amount): A method that takes a parameter amount (a positive floating-point number) and adds it to the account’s balance.\n",
    "withdraw(amount): A method that takes a parameter amount (a positive floating-point number) and subtracts it from the account’s balance. Make sure to check if the account has sufficient balance before allowing the withdrawal.\n",
    "display_balance(): A method that displays the account holder’s name and current balance."
   ]
  },
  {
   "cell_type": "markdown",
   "id": "53251f74",
   "metadata": {},
   "source": []
  },
  {
   "cell_type": "code",
   "execution_count": null,
   "id": "c246967a",
   "metadata": {},
   "outputs": [],
   "source": []
  },
  {
   "cell_type": "code",
   "execution_count": null,
   "id": "8a43206d",
   "metadata": {},
   "outputs": [],
   "source": []
  }
 ],
 "metadata": {
  "kernelspec": {
   "display_name": "Python 3 (ipykernel)",
   "language": "python",
   "name": "python3"
  },
  "language_info": {
   "codemirror_mode": {
    "name": "ipython",
    "version": 3
   },
   "file_extension": ".py",
   "mimetype": "text/x-python",
   "name": "python",
   "nbconvert_exporter": "python",
   "pygments_lexer": "ipython3",
   "version": "3.9.13"
  }
 },
 "nbformat": 4,
 "nbformat_minor": 5
}
