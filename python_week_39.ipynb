{
 "cells": [
  {
   "cell_type": "markdown",
   "id": "5922b9cf",
   "metadata": {},
   "source": [
    "Write a Python function that takes a number as input and checks if it is prime. A prime number is a natural number greater than 1 that is divisible only by 1 and itself."
   ]
  },
  {
   "cell_type": "code",
   "execution_count": 1,
   "id": "ba21a96c",
   "metadata": {},
   "outputs": [],
   "source": [
    "from math import isqrt\n",
    "def is_prime(n: int) -> bool:\n",
    "    if n <= 3:\n",
    "        return n > 1\n",
    "    if n % 2 == 0 or n % 3 == 0:\n",
    "        return False\n",
    "    limit = isqrt(n)\n",
    "    for i in range(5, limit+1, 6):\n",
    "        if n % i == 0 or n % (i+2) == 0:\n",
    "            return False\n",
    "    return True"
   ]
  },
  {
   "cell_type": "code",
   "execution_count": 5,
   "id": "da7fcac3",
   "metadata": {},
   "outputs": [],
   "source": [
    "assert is_prime(1) == False\n",
    "assert is_prime(7) == True\n",
    "assert is_prime(8) == False\n",
    "assert is_prime(9) == False\n",
    "assert is_prime(10) == False\n",
    "assert is_prime(11) == True"
   ]
  },
  {
   "cell_type": "markdown",
   "id": "4f0be55e",
   "metadata": {},
   "source": [
    "Write a Python function that takes two lists as input and returns a new list containing the common elements between the two lists."
   ]
  },
  {
   "cell_type": "code",
   "execution_count": null,
   "id": "268ec19a",
   "metadata": {},
   "outputs": [],
   "source": [
    "def union_of_lists(a:list, b:list) -> list:"
   ]
  },
  {
   "cell_type": "markdown",
   "id": "a2f6f461",
   "metadata": {},
   "source": [
    "Write a Python function that takes the following dictionary as input and returns a new dictionary where the keys and values are swapped. In other words, the function should create a new dictionary where the original values become the keys, and the original keys become the values.\n",
    "\n",
    "original_dict = {“apple”: 1, “banana”: 2, “cherry”: 3}"
   ]
  },
  {
   "cell_type": "code",
   "execution_count": 51,
   "id": "e3d08ced",
   "metadata": {},
   "outputs": [],
   "source": [
    "def key_value_swap(original_dict:dict) -> dict:\n",
    "    return {original_dict.values():original_dict.keys()}"
   ]
  },
  {
   "cell_type": "code",
   "execution_count": 28,
   "id": "c1d9af6a",
   "metadata": {},
   "outputs": [],
   "source": [
    "original_dict = {'apple': 1, 'banana': 2, 'cherry': 3}"
   ]
  },
  {
   "cell_type": "code",
   "execution_count": 61,
   "id": "d834b8a2",
   "metadata": {},
   "outputs": [
    {
     "name": "stdout",
     "output_type": "stream",
     "text": [
      "apple\n",
      "banana\n",
      "cherry\n"
     ]
    }
   ],
   "source": [
    "for i in original_dict:\n",
    "    print(i)"
   ]
  },
  {
   "cell_type": "code",
   "execution_count": 54,
   "id": "eaf79141",
   "metadata": {},
   "outputs": [
    {
     "data": {
      "text/plain": [
       "dict_keys(['apple', 'banana', 'cherry'])"
      ]
     },
     "execution_count": 54,
     "metadata": {},
     "output_type": "execute_result"
    }
   ],
   "source": [
    "original_dict.keys()"
   ]
  },
  {
   "cell_type": "code",
   "execution_count": 46,
   "id": "b0174ce3",
   "metadata": {},
   "outputs": [
    {
     "data": {
      "text/plain": [
       "dict_values([1, 2, 3])"
      ]
     },
     "execution_count": 46,
     "metadata": {},
     "output_type": "execute_result"
    }
   ],
   "source": [
    "original_dict.values()"
   ]
  },
  {
   "cell_type": "code",
   "execution_count": 52,
   "id": "c860f69b",
   "metadata": {},
   "outputs": [
    {
     "data": {
      "text/plain": [
       "{dict_values([1, 2, 3]): dict_keys(['apple', 'banana', 'cherry'])}"
      ]
     },
     "execution_count": 52,
     "metadata": {},
     "output_type": "execute_result"
    }
   ],
   "source": [
    "key_value_swap(original_dict)"
   ]
  },
  {
   "cell_type": "markdown",
   "id": "50330164",
   "metadata": {},
   "source": [
    "Create a class called “BankAccount” that represents a bank account. The class should have the following attributes:\n",
    "\n",
    "account_holder: A string representing the account holder’s name.\n",
    "balance: A floating-point number representing the current balance in the account.\n",
    "The class should have the following methods:\n",
    "\n",
    "deposit(amount): A method that takes a parameter amount (a positive floating-point number) and adds it to the account’s balance.\n",
    "withdraw(amount): A method that takes a parameter amount (a positive floating-point number) and subtracts it from the account’s balance. Make sure to check if the account has sufficient balance before allowing the withdrawal.\n",
    "display_balance(): A method that displays the account holder’s name and current balance."
   ]
  },
  {
   "cell_type": "code",
   "execution_count": 62,
   "id": "c246967a",
   "metadata": {},
   "outputs": [],
   "source": [
    "class BankAccount():\n",
    "    def __init__(self, account_holder):\n",
    "        self.account_holder = account_holder\n",
    "        self.balance = 0.0\n",
    "    def deposit(self, amount:float):\n",
    "        self.balance += amount\n",
    "    def withdraw(self, amount:float):\n",
    "        if (self.balance - amount) >= 0:\n",
    "            self.balance -= amount\n",
    "        else:\n",
    "            print('Insuficient funds')\n",
    "    def display_balance(self):\n",
    "        print(f'Account holder: {self.account_holder}')\n",
    "        print(f'Current balance: {self.balance}')"
   ]
  },
  {
   "cell_type": "code",
   "execution_count": 12,
   "id": "8a43206d",
   "metadata": {},
   "outputs": [],
   "source": [
    "bank1 = BankAccount('Jim')"
   ]
  },
  {
   "cell_type": "code",
   "execution_count": 13,
   "id": "6a0631a6",
   "metadata": {},
   "outputs": [
    {
     "data": {
      "text/plain": [
       "<__main__.BankAccount at 0x7fec2a0ed220>"
      ]
     },
     "execution_count": 13,
     "metadata": {},
     "output_type": "execute_result"
    }
   ],
   "source": [
    "bank1"
   ]
  },
  {
   "cell_type": "code",
   "execution_count": 14,
   "id": "e455a8ab",
   "metadata": {},
   "outputs": [
    {
     "name": "stdout",
     "output_type": "stream",
     "text": [
      "Account holder: Jim\n",
      "Current balance: 0.0\n"
     ]
    }
   ],
   "source": [
    "bank1.display_balance()"
   ]
  },
  {
   "cell_type": "code",
   "execution_count": 15,
   "id": "574dc2a5",
   "metadata": {},
   "outputs": [
    {
     "name": "stdout",
     "output_type": "stream",
     "text": [
      "Insuficient funds\n"
     ]
    }
   ],
   "source": [
    "bank1.withdraw(50)"
   ]
  },
  {
   "cell_type": "code",
   "execution_count": 18,
   "id": "6ef5645a",
   "metadata": {},
   "outputs": [
    {
     "name": "stdout",
     "output_type": "stream",
     "text": [
      "Account holder: Jim\n",
      "Current balance: 20.0\n"
     ]
    }
   ],
   "source": [
    "bank1.display_balance()"
   ]
  },
  {
   "cell_type": "code",
   "execution_count": 17,
   "id": "1ac4bdb3",
   "metadata": {},
   "outputs": [],
   "source": [
    "bank1.deposit(20)"
   ]
  },
  {
   "cell_type": "code",
   "execution_count": 19,
   "id": "723300ab",
   "metadata": {},
   "outputs": [],
   "source": [
    "bank1.withdraw(10.25)"
   ]
  },
  {
   "cell_type": "code",
   "execution_count": 20,
   "id": "25979321",
   "metadata": {},
   "outputs": [
    {
     "name": "stdout",
     "output_type": "stream",
     "text": [
      "Account holder: Jim\n",
      "Current balance: 9.75\n"
     ]
    }
   ],
   "source": [
    "bank1.display_balance()"
   ]
  }
 ],
 "metadata": {
  "kernelspec": {
   "display_name": "Python 3 (ipykernel)",
   "language": "python",
   "name": "python3"
  },
  "language_info": {
   "codemirror_mode": {
    "name": "ipython",
    "version": 3
   },
   "file_extension": ".py",
   "mimetype": "text/x-python",
   "name": "python",
   "nbconvert_exporter": "python",
   "pygments_lexer": "ipython3",
   "version": "3.9.13"
  }
 },
 "nbformat": 4,
 "nbformat_minor": 5
}
