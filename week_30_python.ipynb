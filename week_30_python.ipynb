{
 "cells": [
  {
   "cell_type": "code",
   "execution_count": 1,
   "id": "8a3abad1",
   "metadata": {},
   "outputs": [],
   "source": [
    "# Week 30 Data in Motion Python Challenge"
   ]
  },
  {
   "cell_type": "code",
   "execution_count": 2,
   "id": "e15d11eb",
   "metadata": {},
   "outputs": [],
   "source": [
    "# Create a function which returns the Modulo of the two given numbers.\n",
    "def mod(num1, num2):\n",
    "    return num1 % num2\n",
    "\n",
    "assert(mod(-13, 64) == 51)\n",
    "assert(mod(50, 25) == 0)\n",
    "assert(mod(-6, 3) == 0)"
   ]
  },
  {
   "cell_type": "code",
   "execution_count": 3,
   "id": "6df4ed83",
   "metadata": {},
   "outputs": [],
   "source": [
    "# Create a function that takes a list of non-negative integers and \n",
    "# strings and return a new list without the strings.\n",
    "def filter_list(string_list):\n",
    "    return [x for x in string_list if (type(x) == int) and (x >= 0)]\n",
    "\n",
    "assert(filter_list([1, 2, \"a\", \"b\"]) == [1, 2])\n",
    "assert(filter_list([1, \"a\", \"b\", 0, 15, -5]) == [1, 0, 15])\n",
    "assert(filter_list([1, 2, \"aasf\", \"1\", \"123\", 123]) == [1, 2, 123])"
   ]
  },
  {
   "cell_type": "code",
   "execution_count": 4,
   "id": "e1833f30",
   "metadata": {},
   "outputs": [],
   "source": [
    "# Create a function that takes two number strings and returns their sum as a string.\n",
    "def add(str1, str2):\n",
    "    # check if empty string, which will cause an error for the int() function\n",
    "    if str1 == '' or str2 == '':\n",
    "        return 'Invalid Operation'\n",
    "    else:\n",
    "        return str(int(str1) + int(str2))\n",
    "    \n",
    "assert(add(\"111\", \"111\") == '222')\n",
    "assert(add(\"10\", \"80\") == '90')\n",
    "assert(add(\"\", \"20\") == 'Invalid Operation')"
   ]
  },
  {
   "cell_type": "code",
   "execution_count": 5,
   "id": "96f5dfa0",
   "metadata": {},
   "outputs": [],
   "source": [
    "# Create a function that counts the number of digits in a number. \n",
    "# Conversion of the number to a string is not allowed.\n",
    "def digits_count(number):\n",
    "    count = 0\n",
    "    # check if number is 0, which will cause an error for the while loop\n",
    "    if number == 0:\n",
    "        count = 1\n",
    "    else:\n",
    "        # loop through the digits of the input number, incrementing count each loop\n",
    "        while number:\n",
    "            number //= 10\n",
    "            count += 1\n",
    "    return count\n",
    "\n",
    "assert(digits_count(4666) == 4)\n",
    "assert(digits_count(544) == 3)\n",
    "assert(digits_count(121317) == 6)\n",
    "assert(digits_count(0) == 1)\n",
    "assert(digits_count(12345) == 5)\n",
    "assert(digits_count(1289396387328) == 13)"
   ]
  }
 ],
 "metadata": {
  "kernelspec": {
   "display_name": "Python 3 (ipykernel)",
   "language": "python",
   "name": "python3"
  },
  "language_info": {
   "codemirror_mode": {
    "name": "ipython",
    "version": 3
   },
   "file_extension": ".py",
   "mimetype": "text/x-python",
   "name": "python",
   "nbconvert_exporter": "python",
   "pygments_lexer": "ipython3",
   "version": "3.9.13"
  }
 },
 "nbformat": 4,
 "nbformat_minor": 5
}
