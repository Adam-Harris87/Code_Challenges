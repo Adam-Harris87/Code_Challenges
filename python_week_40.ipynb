{
 "cells": [
  {
   "cell_type": "markdown",
   "id": "a4bbc5e0",
   "metadata": {},
   "source": [
    "Push everyday.\n",
    "\n",
    "Working on other stuff.\n",
    "\n",
    "Still working on other stuff."
   ]
  },
  {
   "cell_type": "code",
   "execution_count": null,
   "id": "a3a7eafa",
   "metadata": {},
   "outputs": [],
   "source": []
  },
  {
   "cell_type": "code",
   "execution_count": null,
   "id": "2a0a130c",
   "metadata": {},
   "outputs": [],
   "source": []
  },
  {
   "cell_type": "code",
   "execution_count": null,
   "id": "eedd3621",
   "metadata": {},
   "outputs": [],
   "source": []
  }
 ],
 "metadata": {
  "kernelspec": {
   "display_name": "Python 3 (ipykernel)",
   "language": "python",
   "name": "python3"
  },
  "language_info": {
   "codemirror_mode": {
    "name": "ipython",
    "version": 3
   },
   "file_extension": ".py",
   "mimetype": "text/x-python",
   "name": "python",
   "nbconvert_exporter": "python",
   "pygments_lexer": "ipython3",
   "version": "3.9.13"
  }
 },
 "nbformat": 4,
 "nbformat_minor": 5
}
