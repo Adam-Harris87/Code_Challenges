{
 "cells": [
  {
   "cell_type": "markdown",
   "id": "c2f6d273",
   "metadata": {},
   "source": [
    "# Data in Motion week 32 Python challenge"
   ]
  },
  {
   "cell_type": "code",
   "execution_count": 1,
   "id": "951a8e0d",
   "metadata": {},
   "outputs": [],
   "source": [
    "def animals(chickens, cows, pigs):\n",
    "    ''' This function will return the total number of legs of all the animals'''\n",
    "    return (chickens * 2) + (cows * 4) + (pigs * 4)\n",
    "\n",
    "assert(animals(2, 3, 5) == 36)\n",
    "assert(animals(1, 2, 3) == 22)\n",
    "assert(animals(5, 2, 8) == 50)"
   ]
  },
  {
   "cell_type": "code",
   "execution_count": 2,
   "id": "666b7b59",
   "metadata": {},
   "outputs": [],
   "source": [
    "# Using list comprehensions, create a function that \n",
    "# finds all even numbers from 1 to the given number.\n",
    "def find_even_nums(number):\n",
    "    '''This function will find all even numbers from 1 to the given number'''\n",
    "    return [x for x in range(1, number + 1) if x % 2 == 0]\n",
    "\n",
    "assert(find_even_nums(8) == [2, 4, 6, 8])\n",
    "assert(find_even_nums(4) == [2, 4])\n",
    "assert(find_even_nums(2) == [2])"
   ]
  },
  {
   "cell_type": "code",
   "execution_count": 3,
   "id": "a102637a",
   "metadata": {},
   "outputs": [],
   "source": [
    "def int_to_str(num):\n",
    "    '''This function will convert an integer to a string'''\n",
    "    return (f'{num}')\n",
    "\n",
    "def str_to_int(s):\n",
    "    '''This function will convert a string to an integer'''\n",
    "    return int(s)\n",
    "\n",
    "assert(int_to_str(4) == \"4\")\n",
    "assert(str_to_int(\"4\") == 4)\n",
    "assert(int_to_str(29348) == \"29348\")"
   ]
  },
  {
   "cell_type": "code",
   "execution_count": 4,
   "id": "c49e7c36",
   "metadata": {},
   "outputs": [],
   "source": [
    "def make_box(n):\n",
    "    '''This function will make a box sized n * n with '#'s around the outside'''\n",
    "    a = []\n",
    "    for i in range(1, n+1):\n",
    "        if i == 1 or i == n:\n",
    "            a.append ('#' * n)\n",
    "        elif i < n:\n",
    "            a.append (f'#' + ' '*(n-2) + '#')\n",
    "    return a\n",
    "\n",
    "assert(make_box(5) == [\n",
    "  \"#####\",\n",
    "  \"#   #\",\n",
    "  \"#   #\",\n",
    "  \"#   #\",\n",
    "  \"#####\"\n",
    "])\n",
    "assert(make_box(3) == [\n",
    "  \"###\",\n",
    "  \"# #\",\n",
    "  \"###\"\n",
    "])\n",
    "assert(make_box(2) == [\n",
    "  \"##\",\n",
    "  \"##\"\n",
    "])\n",
    "assert(make_box(1) == [\n",
    "  \"#\"\n",
    "])"
   ]
  }
 ],
 "metadata": {
  "kernelspec": {
   "display_name": "Python 3 (ipykernel)",
   "language": "python",
   "name": "python3"
  },
  "language_info": {
   "codemirror_mode": {
    "name": "ipython",
    "version": 3
   },
   "file_extension": ".py",
   "mimetype": "text/x-python",
   "name": "python",
   "nbconvert_exporter": "python",
   "pygments_lexer": "ipython3",
   "version": "3.9.13"
  }
 },
 "nbformat": 4,
 "nbformat_minor": 5
}
