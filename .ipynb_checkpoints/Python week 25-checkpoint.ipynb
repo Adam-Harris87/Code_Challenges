{
 "cells": [
  {
   "cell_type": "markdown",
   "id": "97380cae",
   "metadata": {},
   "source": [
    "This notebook is for the Data in Motion Week 25 challenge."
   ]
  },
  {
   "cell_type": "code",
   "execution_count": 6,
   "id": "faba139d",
   "metadata": {},
   "outputs": [],
   "source": [
    "def yell(words):\n",
    "    return words.upper() + \"!\""
   ]
  },
  {
   "cell_type": "code",
   "execution_count": 10,
   "id": "3f2e01e8",
   "metadata": {},
   "outputs": [
    {
     "name": "stdout",
     "output_type": "stream",
     "text": [
      "GO AWAY!\n",
      "LEAVE ME ALONE!\n"
     ]
    }
   ],
   "source": [
    "print(yell(\"go away\"))\n",
    "print(yell(\"leave me alone\"))"
   ]
  }
 ],
 "metadata": {
  "kernelspec": {
   "display_name": "Python 3 (ipykernel)",
   "language": "python",
   "name": "python3"
  },
  "language_info": {
   "codemirror_mode": {
    "name": "ipython",
    "version": 3
   },
   "file_extension": ".py",
   "mimetype": "text/x-python",
   "name": "python",
   "nbconvert_exporter": "python",
   "pygments_lexer": "ipython3",
   "version": "3.9.13"
  }
 },
 "nbformat": 4,
 "nbformat_minor": 5
}
