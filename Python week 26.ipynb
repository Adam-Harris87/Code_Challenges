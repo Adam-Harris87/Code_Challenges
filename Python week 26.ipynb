{
 "cells": [
  {
   "cell_type": "code",
   "execution_count": 1,
   "id": "1dce6bec",
   "metadata": {},
   "outputs": [],
   "source": [
    "def only_ints(a,b):\n",
    "    return type(a)==int and type(b)==int"
   ]
  },
  {
   "cell_type": "code",
   "execution_count": 2,
   "id": "186e7863",
   "metadata": {
    "scrolled": true
   },
   "outputs": [
    {
     "data": {
      "text/plain": [
       "True"
      ]
     },
     "execution_count": 2,
     "metadata": {},
     "output_type": "execute_result"
    }
   ],
   "source": [
    "only_ints(1, 2)"
   ]
  },
  {
   "cell_type": "code",
   "execution_count": 3,
   "id": "2ccbd5a4",
   "metadata": {},
   "outputs": [
    {
     "data": {
      "text/plain": [
       "False"
      ]
     },
     "execution_count": 3,
     "metadata": {},
     "output_type": "execute_result"
    }
   ],
   "source": [
    "only_ints(\"a\", 1)"
   ]
  },
  {
   "cell_type": "code",
   "execution_count": 4,
   "id": "fff22e9d",
   "metadata": {},
   "outputs": [],
   "source": [
    "import random\n",
    "\n",
    "def convert_choice(choice):\n",
    "    # convert player choice to a number\n",
    "    if str.lower(choice) == 'rock': return 0\n",
    "    elif str.lower(choice) == 'paper': return 1\n",
    "    elif str.lower(choice) == 'scissors': return 2\n",
    "    else: print('Invalid choice')\n",
    "        \n",
    "def convert_comp_choice(choice):\n",
    "    # convert computer choice to rock, paper or scissor\n",
    "    if choice == 0: return 'Rock'\n",
    "    elif choice == 1: return 'Paper'\n",
    "    else: return 'Scissors'\n",
    "\n",
    "def rps(choice): # play rock, paper, scissors\n",
    "    # get a random integer\n",
    "    comp_choice = random.randint(0,2)\n",
    "    player_choice = convert_choice(choice)\n",
    "    comp = convert_comp_choice(comp_choice)\n",
    "    # check who won\n",
    "    if comp_choice == player_choice:\n",
    "        print(comp + ', Tie')\n",
    "    elif (player_choice == 0 and comp_choice == 1) | \\\n",
    "        (player_choice == 1 and comp_choice == 2) | \\\n",
    "        (player_choice == 2 and comp_choice == 0):\n",
    "        print(comp + ', You lose')\n",
    "    else: print(comp + ', You win')"
   ]
  },
  {
   "cell_type": "code",
   "execution_count": 5,
   "id": "4ef11d1a",
   "metadata": {},
   "outputs": [
    {
     "name": "stdout",
     "output_type": "stream",
     "text": [
      "Paper, You win\n"
     ]
    }
   ],
   "source": [
    "rps('scissors')"
   ]
  }
 ],
 "metadata": {
  "kernelspec": {
   "display_name": "Python 3 (ipykernel)",
   "language": "python",
   "name": "python3"
  },
  "language_info": {
   "codemirror_mode": {
    "name": "ipython",
    "version": 3
   },
   "file_extension": ".py",
   "mimetype": "text/x-python",
   "name": "python",
   "nbconvert_exporter": "python",
   "pygments_lexer": "ipython3",
   "version": "3.9.13"
  }
 },
 "nbformat": 4,
 "nbformat_minor": 5
}
