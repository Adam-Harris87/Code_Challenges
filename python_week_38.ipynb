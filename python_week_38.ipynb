{
 "cells": [
  {
   "cell_type": "markdown",
   "id": "ab49b47b",
   "metadata": {},
   "source": [
    "Given the following list of emails\n",
    "\n",
    "emails = [\"kedeisha@example.com\", \"soanli@example.com\", \"taamir@example.com\", \"shawn@dim.com\", \"frank@dim.com\", \"mikey@dim.com\"],\n",
    "\n",
    "Write a Python function to filter out all emails that belong to the “dim.com” domain."
   ]
  },
  {
   "cell_type": "code",
   "execution_count": 1,
   "id": "32b6e87c",
   "metadata": {},
   "outputs": [],
   "source": [
    "emails = [\"kedeisha@example.com\", \"soanli@example.com\", \n",
    "          \"taamir@example.com\", \"shawn@dim.com\", \n",
    "          \"frank@dim.com\", \"mikey@dim.com\"]"
   ]
  },
  {
   "cell_type": "code",
   "execution_count": 26,
   "id": "41167da0",
   "metadata": {},
   "outputs": [],
   "source": [
    "def filter_emails(emails):\n",
    "    return [email for email in emails if not email.endswith('dim.com')]"
   ]
  },
  {
   "cell_type": "code",
   "execution_count": 27,
   "id": "6a81e63a",
   "metadata": {},
   "outputs": [
    {
     "data": {
      "text/plain": [
       "['kedeisha@example.com', 'soanli@example.com', 'taamir@example.com']"
      ]
     },
     "execution_count": 27,
     "metadata": {},
     "output_type": "execute_result"
    }
   ],
   "source": [
    "filter_emails(emails)"
   ]
  },
  {
   "cell_type": "code",
   "execution_count": null,
   "id": "db32d7e8",
   "metadata": {},
   "outputs": [],
   "source": []
  },
  {
   "cell_type": "markdown",
   "id": "e0379be5",
   "metadata": {},
   "source": [
    "Consider the following list of dictionaries\n",
    "\n",
    "products = [{\"product\": \"A\", \"price\": 12.20}, {\"product\": \"B\", \"price\": 15.60}, {\"product\": \"C\", \"price\": 9.10}]\n",
    "Write a Python function to find the most expensive product."
   ]
  },
  {
   "cell_type": "code",
   "execution_count": 10,
   "id": "aaf9e642",
   "metadata": {},
   "outputs": [],
   "source": [
    "products = [{\"product\": \"A\", \"price\": 12.20}, \n",
    "            {\"product\": \"B\", \"price\": 15.60}, \n",
    "            {\"product\": \"C\", \"price\": 9.10}]"
   ]
  },
  {
   "cell_type": "code",
   "execution_count": 30,
   "id": "0399a105",
   "metadata": {},
   "outputs": [],
   "source": [
    "def get_max_price_product(products):\n",
    "    price_max = 0\n",
    "    prod_max = 0\n",
    "    for i, product in enumerate(products):\n",
    "        if product['price'] > price_max:\n",
    "            price_max = product['price']\n",
    "            prod_max = i\n",
    "    return products[prod_max]"
   ]
  },
  {
   "cell_type": "code",
   "execution_count": 31,
   "id": "98142fab",
   "metadata": {},
   "outputs": [
    {
     "data": {
      "text/plain": [
       "{'product': 'B', 'price': 15.6}"
      ]
     },
     "execution_count": 31,
     "metadata": {},
     "output_type": "execute_result"
    }
   ],
   "source": [
    "get_max_price_product(products)"
   ]
  },
  {
   "cell_type": "code",
   "execution_count": null,
   "id": "ee297634",
   "metadata": {},
   "outputs": [],
   "source": []
  },
  {
   "cell_type": "code",
   "execution_count": null,
   "id": "6c7649bf",
   "metadata": {},
   "outputs": [],
   "source": []
  },
  {
   "cell_type": "markdown",
   "id": "67dd6034",
   "metadata": {},
   "source": [
    "Given a list of dictionaries where each dictionary contains ‘name’ and ‘date_of_birth’ of individuals, write a Python function to find the oldest person. For example:\n",
    "\n",
    "persons = [\n",
    "{\"name\": \"Kedeisha\", \"date_of_birth\": \"1994-05-20\"},\n",
    "{\"name\": \"Homer\", \"date_of_birth\": \"1956-05-12\"},\n",
    "{\"name\": \"Bruce\", \"date_of_birth\": \"1915-04-07\"},\n",
    "]"
   ]
  },
  {
   "cell_type": "code",
   "execution_count": 32,
   "id": "45b6b8e0",
   "metadata": {},
   "outputs": [],
   "source": [
    "persons = [\n",
    "{\"name\": \"Kedeisha\", \"date_of_birth\": \"1994-05-20\"},\n",
    "{\"name\": \"Homer\", \"date_of_birth\": \"1956-05-12\"},\n",
    "{\"name\": \"Bruce\", \"date_of_birth\": \"1915-04-07\"},\n",
    "]"
   ]
  },
  {
   "cell_type": "code",
   "execution_count": 44,
   "id": "8dddef83",
   "metadata": {},
   "outputs": [],
   "source": [
    "import datetime\n",
    "import pandas as pd"
   ]
  },
  {
   "cell_type": "code",
   "execution_count": 36,
   "id": "2fc7c373",
   "metadata": {},
   "outputs": [
    {
     "data": {
      "text/plain": [
       "datetime.date(2023, 6, 22)"
      ]
     },
     "execution_count": 36,
     "metadata": {},
     "output_type": "execute_result"
    }
   ],
   "source": [
    "datetime.date.today()"
   ]
  },
  {
   "cell_type": "code",
   "execution_count": 49,
   "id": "15452f72",
   "metadata": {},
   "outputs": [
    {
     "data": {
      "text/plain": [
       "datetime.date(1994, 5, 20)"
      ]
     },
     "execution_count": 49,
     "metadata": {},
     "output_type": "execute_result"
    }
   ],
   "source": [
    "pd.to_datetime(persons[0]['date_of_birth']).date()"
   ]
  },
  {
   "cell_type": "code",
   "execution_count": 67,
   "id": "0b0e7062",
   "metadata": {},
   "outputs": [
    {
     "data": {
      "text/plain": [
       "39523"
      ]
     },
     "execution_count": 67,
     "metadata": {},
     "output_type": "execute_result"
    }
   ],
   "source": [
    "(datetime.date.today() -\n",
    "    pd.to_datetime(persons[2]['date_of_birth']).date()\n",
    ").days"
   ]
  },
  {
   "cell_type": "code",
   "execution_count": 65,
   "id": "3a31b69f",
   "metadata": {},
   "outputs": [],
   "source": [
    "def get_oldest(persons):\n",
    "    max_age = 0\n",
    "    oldest = 0\n",
    "    for i, person in enumerate(persons):\n",
    "        days_old = (datetime.date.today() -\n",
    "                    pd.to_datetime(person['date_of_birth']).date()\n",
    "                   ).days\n",
    "        if days_old > max_age:\n",
    "            max_age = days_old\n",
    "            oldest = i\n",
    "    return persons[oldest]"
   ]
  },
  {
   "cell_type": "code",
   "execution_count": 66,
   "id": "3fdbcd51",
   "metadata": {},
   "outputs": [
    {
     "data": {
      "text/plain": [
       "{'name': 'Bruce', 'date_of_birth': '1915-04-07'}"
      ]
     },
     "execution_count": 66,
     "metadata": {},
     "output_type": "execute_result"
    }
   ],
   "source": [
    "get_oldest(persons)"
   ]
  },
  {
   "cell_type": "code",
   "execution_count": null,
   "id": "f97a4a3d",
   "metadata": {},
   "outputs": [],
   "source": []
  },
  {
   "cell_type": "markdown",
   "id": "77a36fcb",
   "metadata": {},
   "source": [
    "Create a Python class Car that represents a car. The car should be initialized with its make, model, and year of manufacture. The class should have the following methods:\n",
    "\n",
    "get_details(): This method should return a string representing the details of the car in the format “make model (year)”.\n",
    "set_details(new_make, new_model, new_year): This method should set new details for the car.\n",
    "age(): This method should calculate and return the age of the car based on the current year. Assume the current year is 2023.\n",
    "To test your implementation, create a Car object with make “Toyota”, model “Corolla”, and year 2015. Update the details to make “Honda”, model “Civic”, and year 2018, and then calculate and print the age of the car."
   ]
  },
  {
   "cell_type": "code",
   "execution_count": null,
   "id": "b202acd1",
   "metadata": {},
   "outputs": [],
   "source": []
  }
 ],
 "metadata": {
  "kernelspec": {
   "display_name": "Python 3 (ipykernel)",
   "language": "python",
   "name": "python3"
  },
  "language_info": {
   "codemirror_mode": {
    "name": "ipython",
    "version": 3
   },
   "file_extension": ".py",
   "mimetype": "text/x-python",
   "name": "python",
   "nbconvert_exporter": "python",
   "pygments_lexer": "ipython3",
   "version": "3.9.13"
  }
 },
 "nbformat": 4,
 "nbformat_minor": 5
}
