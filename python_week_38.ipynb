{
 "cells": [
  {
   "cell_type": "markdown",
   "id": "ab49b47b",
   "metadata": {},
   "source": [
    "# 1.\n",
    "Given the following list of emails\n",
    "\n",
    "emails = [\"kedeisha@example.com\", \"soanli@example.com\", \"taamir@example.com\", \"shawn@dim.com\", \"frank@dim.com\", \"mikey@dim.com\"],\n",
    "\n",
    "Write a Python function to filter out all emails that belong to the “dim.com” domain."
   ]
  },
  {
   "cell_type": "code",
   "execution_count": 1,
   "id": "32b6e87c",
   "metadata": {},
   "outputs": [],
   "source": [
    "emails = [\"kedeisha@example.com\", \"soanli@example.com\", \n",
    "          \"taamir@example.com\", \"shawn@dim.com\", \n",
    "          \"frank@dim.com\", \"mikey@dim.com\"]"
   ]
  },
  {
   "cell_type": "code",
   "execution_count": 2,
   "id": "41167da0",
   "metadata": {},
   "outputs": [],
   "source": [
    "def filter_emails(emails):\n",
    "    return [email for email in emails if not email.endswith('dim.com')]"
   ]
  },
  {
   "cell_type": "code",
   "execution_count": 3,
   "id": "6a81e63a",
   "metadata": {},
   "outputs": [
    {
     "data": {
      "text/plain": [
       "['kedeisha@example.com', 'soanli@example.com', 'taamir@example.com']"
      ]
     },
     "execution_count": 3,
     "metadata": {},
     "output_type": "execute_result"
    }
   ],
   "source": [
    "filter_emails(emails)"
   ]
  },
  {
   "cell_type": "markdown",
   "id": "e0379be5",
   "metadata": {},
   "source": [
    "# 2. \n",
    "Consider the following list of dictionaries\n",
    "\n",
    "products = [{\"product\": \"A\", \"price\": 12.20}, {\"product\": \"B\", \"price\": 15.60}, {\"product\": \"C\", \"price\": 9.10}]\n",
    "Write a Python function to find the most expensive product."
   ]
  },
  {
   "cell_type": "code",
   "execution_count": 4,
   "id": "aaf9e642",
   "metadata": {},
   "outputs": [],
   "source": [
    "products = [{\"product\": \"A\", \"price\": 12.20}, \n",
    "            {\"product\": \"B\", \"price\": 15.60}, \n",
    "            {\"product\": \"C\", \"price\": 9.10}]"
   ]
  },
  {
   "cell_type": "code",
   "execution_count": 5,
   "id": "0399a105",
   "metadata": {},
   "outputs": [],
   "source": [
    "def get_max_price_product(products):\n",
    "    price_max = 0\n",
    "    prod_max = 0\n",
    "    for i, product in enumerate(products):\n",
    "        if product['price'] > price_max:\n",
    "            price_max = product['price']\n",
    "            prod_max = i\n",
    "    return products[prod_max]"
   ]
  },
  {
   "cell_type": "code",
   "execution_count": 6,
   "id": "98142fab",
   "metadata": {},
   "outputs": [
    {
     "data": {
      "text/plain": [
       "{'product': 'B', 'price': 15.6}"
      ]
     },
     "execution_count": 6,
     "metadata": {},
     "output_type": "execute_result"
    }
   ],
   "source": [
    "get_max_price_product(products)"
   ]
  },
  {
   "cell_type": "markdown",
   "id": "67dd6034",
   "metadata": {},
   "source": [
    "# 3.\n",
    "Given a list of dictionaries where each dictionary contains ‘name’ and ‘date_of_birth’ of individuals, write a Python function to find the oldest person. For example:\n",
    "\n",
    "persons = [\n",
    "{\"name\": \"Kedeisha\", \"date_of_birth\": \"1994-05-20\"},\n",
    "{\"name\": \"Homer\", \"date_of_birth\": \"1956-05-12\"},\n",
    "{\"name\": \"Bruce\", \"date_of_birth\": \"1915-04-07\"},\n",
    "]"
   ]
  },
  {
   "cell_type": "code",
   "execution_count": 7,
   "id": "45b6b8e0",
   "metadata": {},
   "outputs": [],
   "source": [
    "persons = [\n",
    "{\"name\": \"Kedeisha\", \"date_of_birth\": \"1994-05-20\"},\n",
    "{\"name\": \"Homer\", \"date_of_birth\": \"1956-05-12\"},\n",
    "{\"name\": \"Bruce\", \"date_of_birth\": \"1915-04-07\"},\n",
    "]"
   ]
  },
  {
   "cell_type": "code",
   "execution_count": 8,
   "id": "8dddef83",
   "metadata": {},
   "outputs": [],
   "source": [
    "import datetime\n",
    "import pandas as pd"
   ]
  },
  {
   "cell_type": "code",
   "execution_count": 9,
   "id": "3a31b69f",
   "metadata": {},
   "outputs": [],
   "source": [
    "def get_oldest(persons):\n",
    "    max_age = 0\n",
    "    oldest = 0\n",
    "    for i, person in enumerate(persons):\n",
    "        days_old = (datetime.date.today() -\n",
    "                    pd.to_datetime(person['date_of_birth']).date()\n",
    "                   ).days\n",
    "        if days_old > max_age:\n",
    "            max_age = days_old\n",
    "            oldest = i\n",
    "    return persons[oldest]"
   ]
  },
  {
   "cell_type": "code",
   "execution_count": 10,
   "id": "3fdbcd51",
   "metadata": {},
   "outputs": [
    {
     "data": {
      "text/plain": [
       "{'name': 'Bruce', 'date_of_birth': '1915-04-07'}"
      ]
     },
     "execution_count": 10,
     "metadata": {},
     "output_type": "execute_result"
    }
   ],
   "source": [
    "get_oldest(persons)"
   ]
  },
  {
   "cell_type": "markdown",
   "id": "77a36fcb",
   "metadata": {},
   "source": [
    "# 4.\n",
    "Create a Python class Car that represents a car. The car should be initialized with its make, model, and year of manufacture. The class should have the following methods:\n",
    "\n",
    "get_details(): This method should return a string representing the details of the car in the format “make model (year)”.\n",
    "set_details(new_make, new_model, new_year): This method should set new details for the car.\n",
    "age(): This method should calculate and return the age of the car based on the current year. Assume the current year is 2023.\n",
    "To test your implementation, create a Car object with make “Toyota”, model “Corolla”, and year 2015. Update the details to make “Honda”, model “Civic”, and year 2018, and then calculate and print the age of the car."
   ]
  },
  {
   "cell_type": "code",
   "execution_count": 11,
   "id": "b202acd1",
   "metadata": {},
   "outputs": [],
   "source": [
    "class Car():\n",
    "    def __init__(self, make, model, year):\n",
    "        self.make = make\n",
    "        self.model = model\n",
    "        self.year = year\n",
    "    def get_details(self):\n",
    "        return (f'{self.make}, {self.model}, ({self.year})')\n",
    "    def set_details(self, new_make, new_model, new_year):\n",
    "        self.make = new_make\n",
    "        self.model = new_model\n",
    "        self.year = new_year\n",
    "    def age(self):\n",
    "        return (2023 - self.year)"
   ]
  },
  {
   "cell_type": "code",
   "execution_count": 12,
   "id": "4927a1d6",
   "metadata": {},
   "outputs": [],
   "source": [
    "car1 = Car('Toyota', 'Corolla', 2015)"
   ]
  },
  {
   "cell_type": "code",
   "execution_count": 13,
   "id": "98b969fa",
   "metadata": {},
   "outputs": [
    {
     "data": {
      "text/plain": [
       "'Toyota, Corolla, (2015)'"
      ]
     },
     "execution_count": 13,
     "metadata": {},
     "output_type": "execute_result"
    }
   ],
   "source": [
    "car1.get_details()"
   ]
  },
  {
   "cell_type": "code",
   "execution_count": 14,
   "id": "48bb5e42",
   "metadata": {},
   "outputs": [],
   "source": [
    "car1.set_details('Honda', 'Civic', 2018)"
   ]
  },
  {
   "cell_type": "code",
   "execution_count": 15,
   "id": "a2c41feb",
   "metadata": {},
   "outputs": [
    {
     "data": {
      "text/plain": [
       "5"
      ]
     },
     "execution_count": 15,
     "metadata": {},
     "output_type": "execute_result"
    }
   ],
   "source": [
    "car1.age()"
   ]
  }
 ],
 "metadata": {
  "kernelspec": {
   "display_name": "Python 3 (ipykernel)",
   "language": "python",
   "name": "python3"
  },
  "language_info": {
   "codemirror_mode": {
    "name": "ipython",
    "version": 3
   },
   "file_extension": ".py",
   "mimetype": "text/x-python",
   "name": "python",
   "nbconvert_exporter": "python",
   "pygments_lexer": "ipython3",
   "version": "3.9.13"
  }
 },
 "nbformat": 4,
 "nbformat_minor": 5
}
