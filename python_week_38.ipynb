{
 "cells": [
  {
   "cell_type": "markdown",
   "id": "ab49b47b",
   "metadata": {},
   "source": [
    "Given the following list of emails\n",
    "\n",
    "emails = [\"kedeisha@example.com\", \"soanli@example.com\", \"taamir@example.com\", \"shawn@dim.com\", \"frank@dim.com\", \"mikey@dim.com\"],\n",
    "\n",
    "Write a Python function to filter out all emails that belong to the “dim.com” domain."
   ]
  },
  {
   "cell_type": "code",
   "execution_count": null,
   "id": "41167da0",
   "metadata": {},
   "outputs": [],
   "source": [
    "a"
   ]
  },
  {
   "cell_type": "code",
   "execution_count": null,
   "id": "6a81e63a",
   "metadata": {},
   "outputs": [],
   "source": []
  },
  {
   "cell_type": "markdown",
   "id": "e0379be5",
   "metadata": {},
   "source": [
    "Consider the following list of dictionaries\n",
    "\n",
    "products = [{\"product\": \"A\", \"price\": 12.20}, {\"product\": \"B\", \"price\": 15.60}, {\"product\": \"C\", \"price\": 9.10}]\n",
    "Write a Python function to find the most expensive product."
   ]
  },
  {
   "cell_type": "code",
   "execution_count": null,
   "id": "aaf9e642",
   "metadata": {},
   "outputs": [],
   "source": []
  },
  {
   "cell_type": "code",
   "execution_count": null,
   "id": "d0223af7",
   "metadata": {},
   "outputs": [],
   "source": []
  },
  {
   "cell_type": "markdown",
   "id": "67dd6034",
   "metadata": {},
   "source": [
    "Given a list of dictionaries where each dictionary contains ‘name’ and ‘date_of_birth’ of individuals, write a Python function to find the oldest person. For example:\n",
    "\n",
    "persons = [\n",
    "{\"name\": \"Kedeisha\", \"date_of_birth\": \"1994-05-20\"},\n",
    "{\"name\": \"Homer\", \"date_of_birth\": \"1956-05-12\"},\n",
    "{\"name\": \"Bruce\", \"date_of_birth\": \"1915-04-07\"},\n",
    "]"
   ]
  },
  {
   "cell_type": "code",
   "execution_count": null,
   "id": "45b6b8e0",
   "metadata": {},
   "outputs": [],
   "source": []
  },
  {
   "cell_type": "code",
   "execution_count": null,
   "id": "8dddef83",
   "metadata": {},
   "outputs": [],
   "source": []
  },
  {
   "cell_type": "markdown",
   "id": "77a36fcb",
   "metadata": {},
   "source": [
    "Create a Python class Car that represents a car. The car should be initialized with its make, model, and year of manufacture. The class should have the following methods:\n",
    "\n",
    "get_details(): This method should return a string representing the details of the car in the format “make model (year)”.\n",
    "set_details(new_make, new_model, new_year): This method should set new details for the car.\n",
    "age(): This method should calculate and return the age of the car based on the current year. Assume the current year is 2023.\n",
    "To test your implementation, create a Car object with make “Toyota”, model “Corolla”, and year 2015. Update the details to make “Honda”, model “Civic”, and year 2018, and then calculate and print the age of the car."
   ]
  },
  {
   "cell_type": "code",
   "execution_count": null,
   "id": "b202acd1",
   "metadata": {},
   "outputs": [],
   "source": []
  }
 ],
 "metadata": {
  "kernelspec": {
   "display_name": "Python 3 (ipykernel)",
   "language": "python",
   "name": "python3"
  },
  "language_info": {
   "codemirror_mode": {
    "name": "ipython",
    "version": 3
   },
   "file_extension": ".py",
   "mimetype": "text/x-python",
   "name": "python",
   "nbconvert_exporter": "python",
   "pygments_lexer": "ipython3",
   "version": "3.9.13"
  }
 },
 "nbformat": 4,
 "nbformat_minor": 5
}
